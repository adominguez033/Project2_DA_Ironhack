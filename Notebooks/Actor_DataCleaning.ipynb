{
 "cells": [
  {
   "cell_type": "markdown",
   "id": "58958e1c",
   "metadata": {},
   "source": [
    "# 1. Data import & raw data information."
   ]
  },
  {
   "cell_type": "code",
   "execution_count": 1,
   "id": "62f2c65a",
   "metadata": {},
   "outputs": [],
   "source": [
    "import pandas as pd\n",
    "import numpy as np\n",
    "pd.set_option(\"display.max_columns\", None)"
   ]
  },
  {
   "cell_type": "code",
   "execution_count": 2,
   "id": "f366b9bf",
   "metadata": {},
   "outputs": [
    {
     "data": {
      "text/html": [
       "<div>\n",
       "<style scoped>\n",
       "    .dataframe tbody tr th:only-of-type {\n",
       "        vertical-align: middle;\n",
       "    }\n",
       "\n",
       "    .dataframe tbody tr th {\n",
       "        vertical-align: top;\n",
       "    }\n",
       "\n",
       "    .dataframe thead th {\n",
       "        text-align: right;\n",
       "    }\n",
       "</style>\n",
       "<table border=\"1\" class=\"dataframe\">\n",
       "  <thead>\n",
       "    <tr style=\"text-align: right;\">\n",
       "      <th></th>\n",
       "      <th>actor_id</th>\n",
       "      <th>first_name</th>\n",
       "      <th>last_name</th>\n",
       "      <th>last_update</th>\n",
       "    </tr>\n",
       "  </thead>\n",
       "  <tbody>\n",
       "    <tr>\n",
       "      <th>0</th>\n",
       "      <td>1</td>\n",
       "      <td>PENELOPE</td>\n",
       "      <td>GUINESS</td>\n",
       "      <td>2006-02-15 04:34:33</td>\n",
       "    </tr>\n",
       "    <tr>\n",
       "      <th>1</th>\n",
       "      <td>2</td>\n",
       "      <td>NICK</td>\n",
       "      <td>WAHLBERG</td>\n",
       "      <td>2006-02-15 04:34:33</td>\n",
       "    </tr>\n",
       "    <tr>\n",
       "      <th>2</th>\n",
       "      <td>3</td>\n",
       "      <td>ED</td>\n",
       "      <td>CHASE</td>\n",
       "      <td>2006-02-15 04:34:33</td>\n",
       "    </tr>\n",
       "    <tr>\n",
       "      <th>3</th>\n",
       "      <td>4</td>\n",
       "      <td>JENNIFER</td>\n",
       "      <td>DAVIS</td>\n",
       "      <td>2006-02-15 04:34:33</td>\n",
       "    </tr>\n",
       "    <tr>\n",
       "      <th>4</th>\n",
       "      <td>5</td>\n",
       "      <td>JOHNNY</td>\n",
       "      <td>LOLLOBRIGIDA</td>\n",
       "      <td>2006-02-15 04:34:33</td>\n",
       "    </tr>\n",
       "  </tbody>\n",
       "</table>\n",
       "</div>"
      ],
      "text/plain": [
       "   actor_id first_name     last_name          last_update\n",
       "0         1   PENELOPE       GUINESS  2006-02-15 04:34:33\n",
       "1         2       NICK      WAHLBERG  2006-02-15 04:34:33\n",
       "2         3         ED         CHASE  2006-02-15 04:34:33\n",
       "3         4   JENNIFER         DAVIS  2006-02-15 04:34:33\n",
       "4         5     JOHNNY  LOLLOBRIGIDA  2006-02-15 04:34:33"
      ]
     },
     "execution_count": 2,
     "metadata": {},
     "output_type": "execute_result"
    }
   ],
   "source": [
    "df=pd.read_csv(r'C:\\Users\\alexd\\Ironhack\\Proyectos\\Project2_DA_Ironhack\\Raw - Data\\w3-Database-Project-main\\data\\actor.csv')\n",
    "\n",
    "df.head()"
   ]
  },
  {
   "cell_type": "code",
   "execution_count": 3,
   "id": "f0717583",
   "metadata": {},
   "outputs": [
    {
     "data": {
      "text/plain": [
       "(200, 4)"
      ]
     },
     "execution_count": 3,
     "metadata": {},
     "output_type": "execute_result"
    }
   ],
   "source": [
    "dim_orig=df.shape\n",
    "dim_orig"
   ]
  },
  {
   "cell_type": "code",
   "execution_count": 4,
   "id": "27c8e6e2",
   "metadata": {},
   "outputs": [
    {
     "name": "stdout",
     "output_type": "stream",
     "text": [
      "<class 'pandas.core.frame.DataFrame'>\n",
      "RangeIndex: 200 entries, 0 to 199\n",
      "Data columns (total 4 columns):\n",
      " #   Column       Non-Null Count  Dtype \n",
      "---  ------       --------------  ----- \n",
      " 0   actor_id     200 non-null    int64 \n",
      " 1   first_name   200 non-null    object\n",
      " 2   last_name    200 non-null    object\n",
      " 3   last_update  200 non-null    object\n",
      "dtypes: int64(1), object(3)\n",
      "memory usage: 6.4+ KB\n"
     ]
    }
   ],
   "source": [
    "df.info()"
   ]
  },
  {
   "cell_type": "markdown",
   "id": "9317f641",
   "metadata": {},
   "source": [
    "# 2. Data Cleaning.\n",
    "### Null Values"
   ]
  },
  {
   "cell_type": "code",
   "execution_count": 5,
   "id": "c7bec184",
   "metadata": {},
   "outputs": [
    {
     "data": {
      "text/plain": [
       "Series([], dtype: int64)"
      ]
     },
     "execution_count": 5,
     "metadata": {},
     "output_type": "execute_result"
    }
   ],
   "source": [
    "nan_cols=df.isnull().sum()\n",
    "nan_cols[nan_cols>0] "
   ]
  },
  {
   "cell_type": "markdown",
   "id": "eb2e0cb4",
   "metadata": {},
   "source": [
    "# 3.Determination of data type per column:"
   ]
  },
  {
   "cell_type": "markdown",
   "id": "d99af464",
   "metadata": {},
   "source": [
    "**first_name** --> Ok, it is an object(string) type. No clenaning needs to be done in this column.\n",
    "\n",
    "**last_name** --> Ok, it is an object(string) type. No clenaning needs to be done in this column.\n",
    "\n",
    "**last_update** --> This must be changed into datetime."
   ]
  },
  {
   "cell_type": "code",
   "execution_count": 6,
   "id": "e3598b37",
   "metadata": {},
   "outputs": [
    {
     "data": {
      "text/plain": [
       "array(['PENELOPE', 'NICK', 'ED', 'JENNIFER', 'JOHNNY', 'BETTE', 'GRACE',\n",
       "       'MATTHEW', 'JOE', 'CHRISTIAN', 'ZERO', 'KARL', 'UMA', 'VIVIEN',\n",
       "       'CUBA', 'FRED', 'HELEN', 'DAN', 'BOB', 'LUCILLE', 'KIRSTEN',\n",
       "       'ELVIS', 'SANDRA', 'CAMERON', 'KEVIN', 'RIP', 'JULIA', 'WOODY',\n",
       "       'ALEC', 'SISSY', 'TIM', 'MILLA', 'AUDREY', 'JUDY', 'BURT', 'VAL',\n",
       "       'TOM', 'GOLDIE', 'JODIE', 'KIRK', 'REESE', 'PARKER', 'FRANCES',\n",
       "       'ANNE', 'NATALIE', 'GARY', 'CARMEN', 'MENA', 'FAY', 'JUDE',\n",
       "       'DUSTIN', 'HENRY', 'JAYNE', 'RAY', 'ANGELA', 'MARY', 'JESSICA',\n",
       "       'KENNETH', 'MICHELLE', 'ADAM', 'SEAN', 'ANGELINA', 'CARY',\n",
       "       'GROUCHO', 'MAE', 'RALPH', 'SCARLETT', 'BEN', 'JAMES', 'MINNIE',\n",
       "       'GREG', 'SPENCER', 'CHARLIZE', 'CHRISTOPHER', 'ELLEN', 'DARYL',\n",
       "       'GENE', 'MEG', 'CHRIS', 'JIM', 'SUSAN', 'WALTER', 'SIDNEY', 'GINA',\n",
       "       'WARREN', 'SYLVESTER', 'RUSSELL', 'MORGAN', 'HARRISON', 'RENEE',\n",
       "       'LIZA', 'SALMA', 'JULIANNE', 'ALBERT', 'CATE', 'GRETA', 'JANE',\n",
       "       'RICHARD', 'RITA', 'EWAN', 'WHOOPI', 'JADA', 'RIVER', 'KIM',\n",
       "       'EMILY', 'GEOFFREY', 'MERYL', 'IAN', 'LAURA', 'HARVEY', 'OPRAH',\n",
       "       'HUMPHREY', 'AL', 'LAURENCE', 'WILL', 'OLYMPIA', 'ALAN', 'MICHAEL',\n",
       "       'WILLIAM', 'JON', 'LISA', 'JEFF', 'DEBBIE', 'ROCK', 'GREGORY',\n",
       "       'JOHN', 'BELA', 'THORA'], dtype=object)"
      ]
     },
     "execution_count": 6,
     "metadata": {},
     "output_type": "execute_result"
    }
   ],
   "source": [
    "df.first_name.unique()"
   ]
  },
  {
   "cell_type": "code",
   "execution_count": 7,
   "id": "15b21556",
   "metadata": {},
   "outputs": [
    {
     "data": {
      "text/plain": [
       "array(['GUINESS', 'WAHLBERG', 'CHASE', 'DAVIS', 'LOLLOBRIGIDA',\n",
       "       'NICHOLSON', 'MOSTEL', 'JOHANSSON', 'SWANK', 'GABLE', 'CAGE',\n",
       "       'BERRY', 'WOOD', 'BERGEN', 'OLIVIER', 'COSTNER', 'VOIGHT', 'TORN',\n",
       "       'FAWCETT', 'TRACY', 'PALTROW', 'MARX', 'KILMER', 'STREEP', 'BLOOM',\n",
       "       'CRAWFORD', 'MCQUEEN', 'HOFFMAN', 'WAYNE', 'PECK', 'SOBIESKI',\n",
       "       'HACKMAN', 'DEAN', 'DUKAKIS', 'BOLGER', 'MCKELLEN', 'BRODY',\n",
       "       'DEGENERES', 'MIRANDA', 'JOVOVICH', 'STALLONE', 'GOLDBERG',\n",
       "       'BARRYMORE', 'DAY-LEWIS', 'CRONYN', 'HOPKINS', 'PHOENIX', 'HUNT',\n",
       "       'TEMPLE', 'PINKETT', 'HARRIS', 'CRUISE', 'AKROYD', 'TAUTOU',\n",
       "       'NEESON', 'WRAY', 'HUDSON', 'TANDY', 'BAILEY', 'WINSLET',\n",
       "       'MCCONAUGHEY', 'GRANT', 'WILLIAMS', 'PENN', 'KEITEL', 'POSEY',\n",
       "       'ASTAIRE', 'SINATRA', 'CRUZ', 'DAMON', 'JOLIE', 'WILLIS', 'PITT',\n",
       "       'ZELLWEGER', 'CHAPLIN', 'PESCI', 'DENCH', 'PRESLEY', 'HAWKE',\n",
       "       'BRIDGES', 'DEPP', 'LEIGH', 'CROWE', 'DUNST', 'NOLTE', 'DERN',\n",
       "       'BACALL', 'MCDORMAND', 'BALE', 'ALLEN', 'JACKMAN', 'MONROE',\n",
       "       'BERGMAN', 'BENING', 'TOMEI', 'GARLAND', 'HOPPER', 'REYNOLDS',\n",
       "       'MANSFIELD', 'DEE', 'GOODING', 'HURT', 'RYDER', 'WITHERSPOON',\n",
       "       'HESTON', 'GIBSON', 'MALDEN', 'BASINGER', 'HOPE', 'WEST',\n",
       "       'BULLOCK', 'WILSON', 'PFEIFFER', 'DREYFUSS', 'SILVERSTONE',\n",
       "       'CARREY', 'CLOSE', 'BALL', 'BIRCH', 'SUVARI', 'WALKEN'],\n",
       "      dtype=object)"
      ]
     },
     "execution_count": 7,
     "metadata": {},
     "output_type": "execute_result"
    }
   ],
   "source": [
    "df.last_name.unique()"
   ]
  },
  {
   "cell_type": "code",
   "execution_count": 8,
   "id": "cd482532",
   "metadata": {},
   "outputs": [
    {
     "data": {
      "text/plain": [
       "array(['2006-02-15 04:34:33'], dtype=object)"
      ]
     },
     "execution_count": 8,
     "metadata": {},
     "output_type": "execute_result"
    }
   ],
   "source": [
    "df.last_update.unique()"
   ]
  },
  {
   "cell_type": "code",
   "execution_count": 9,
   "id": "5f543a12",
   "metadata": {},
   "outputs": [],
   "source": [
    "df.last_update=pd.to_datetime(df.last_update)"
   ]
  },
  {
   "cell_type": "code",
   "execution_count": 10,
   "id": "8bb21e3f",
   "metadata": {},
   "outputs": [
    {
     "name": "stdout",
     "output_type": "stream",
     "text": [
      "<class 'pandas.core.frame.DataFrame'>\n",
      "RangeIndex: 200 entries, 0 to 199\n",
      "Data columns (total 4 columns):\n",
      " #   Column       Non-Null Count  Dtype         \n",
      "---  ------       --------------  -----         \n",
      " 0   actor_id     200 non-null    int64         \n",
      " 1   first_name   200 non-null    object        \n",
      " 2   last_name    200 non-null    object        \n",
      " 3   last_update  200 non-null    datetime64[ns]\n",
      "dtypes: datetime64[ns](1), int64(1), object(2)\n",
      "memory usage: 6.4+ KB\n"
     ]
    }
   ],
   "source": [
    "df.info()"
   ]
  },
  {
   "cell_type": "code",
   "execution_count": 11,
   "id": "92dfad13",
   "metadata": {},
   "outputs": [
    {
     "data": {
      "text/html": [
       "<div>\n",
       "<style scoped>\n",
       "    .dataframe tbody tr th:only-of-type {\n",
       "        vertical-align: middle;\n",
       "    }\n",
       "\n",
       "    .dataframe tbody tr th {\n",
       "        vertical-align: top;\n",
       "    }\n",
       "\n",
       "    .dataframe thead th {\n",
       "        text-align: right;\n",
       "    }\n",
       "</style>\n",
       "<table border=\"1\" class=\"dataframe\">\n",
       "  <thead>\n",
       "    <tr style=\"text-align: right;\">\n",
       "      <th></th>\n",
       "      <th>actor_id</th>\n",
       "      <th>first_name</th>\n",
       "      <th>last_name</th>\n",
       "      <th>last_update</th>\n",
       "    </tr>\n",
       "  </thead>\n",
       "  <tbody>\n",
       "    <tr>\n",
       "      <th>0</th>\n",
       "      <td>1</td>\n",
       "      <td>PENELOPE</td>\n",
       "      <td>GUINESS</td>\n",
       "      <td>2006-02-15 04:34:33</td>\n",
       "    </tr>\n",
       "    <tr>\n",
       "      <th>1</th>\n",
       "      <td>2</td>\n",
       "      <td>NICK</td>\n",
       "      <td>WAHLBERG</td>\n",
       "      <td>2006-02-15 04:34:33</td>\n",
       "    </tr>\n",
       "    <tr>\n",
       "      <th>2</th>\n",
       "      <td>3</td>\n",
       "      <td>ED</td>\n",
       "      <td>CHASE</td>\n",
       "      <td>2006-02-15 04:34:33</td>\n",
       "    </tr>\n",
       "    <tr>\n",
       "      <th>3</th>\n",
       "      <td>4</td>\n",
       "      <td>JENNIFER</td>\n",
       "      <td>DAVIS</td>\n",
       "      <td>2006-02-15 04:34:33</td>\n",
       "    </tr>\n",
       "    <tr>\n",
       "      <th>4</th>\n",
       "      <td>5</td>\n",
       "      <td>JOHNNY</td>\n",
       "      <td>LOLLOBRIGIDA</td>\n",
       "      <td>2006-02-15 04:34:33</td>\n",
       "    </tr>\n",
       "  </tbody>\n",
       "</table>\n",
       "</div>"
      ],
      "text/plain": [
       "   actor_id first_name     last_name         last_update\n",
       "0         1   PENELOPE       GUINESS 2006-02-15 04:34:33\n",
       "1         2       NICK      WAHLBERG 2006-02-15 04:34:33\n",
       "2         3         ED         CHASE 2006-02-15 04:34:33\n",
       "3         4   JENNIFER         DAVIS 2006-02-15 04:34:33\n",
       "4         5     JOHNNY  LOLLOBRIGIDA 2006-02-15 04:34:33"
      ]
     },
     "execution_count": 11,
     "metadata": {},
     "output_type": "execute_result"
    }
   ],
   "source": [
    "df.head()"
   ]
  },
  {
   "cell_type": "code",
   "execution_count": 12,
   "id": "bf7eda91",
   "metadata": {},
   "outputs": [
    {
     "data": {
      "text/plain": [
       "True"
      ]
     },
     "execution_count": 12,
     "metadata": {},
     "output_type": "execute_result"
    }
   ],
   "source": [
    "df.drop_duplicates().shape==df.shape # no hay duplicados"
   ]
  },
  {
   "cell_type": "code",
   "execution_count": 13,
   "id": "afb36969",
   "metadata": {},
   "outputs": [],
   "source": [
    "df.drop(\"last_update\", axis=1, inplace=True)"
   ]
  },
  {
   "cell_type": "code",
   "execution_count": 14,
   "id": "f945fa27",
   "metadata": {
    "scrolled": true
   },
   "outputs": [
    {
     "data": {
      "text/html": [
       "<div>\n",
       "<style scoped>\n",
       "    .dataframe tbody tr th:only-of-type {\n",
       "        vertical-align: middle;\n",
       "    }\n",
       "\n",
       "    .dataframe tbody tr th {\n",
       "        vertical-align: top;\n",
       "    }\n",
       "\n",
       "    .dataframe thead th {\n",
       "        text-align: right;\n",
       "    }\n",
       "</style>\n",
       "<table border=\"1\" class=\"dataframe\">\n",
       "  <thead>\n",
       "    <tr style=\"text-align: right;\">\n",
       "      <th></th>\n",
       "      <th>actor_id</th>\n",
       "      <th>first_name</th>\n",
       "      <th>last_name</th>\n",
       "    </tr>\n",
       "  </thead>\n",
       "  <tbody>\n",
       "    <tr>\n",
       "      <th>0</th>\n",
       "      <td>1</td>\n",
       "      <td>PENELOPE</td>\n",
       "      <td>GUINESS</td>\n",
       "    </tr>\n",
       "    <tr>\n",
       "      <th>1</th>\n",
       "      <td>2</td>\n",
       "      <td>NICK</td>\n",
       "      <td>WAHLBERG</td>\n",
       "    </tr>\n",
       "    <tr>\n",
       "      <th>2</th>\n",
       "      <td>3</td>\n",
       "      <td>ED</td>\n",
       "      <td>CHASE</td>\n",
       "    </tr>\n",
       "    <tr>\n",
       "      <th>3</th>\n",
       "      <td>4</td>\n",
       "      <td>JENNIFER</td>\n",
       "      <td>DAVIS</td>\n",
       "    </tr>\n",
       "    <tr>\n",
       "      <th>4</th>\n",
       "      <td>5</td>\n",
       "      <td>JOHNNY</td>\n",
       "      <td>LOLLOBRIGIDA</td>\n",
       "    </tr>\n",
       "  </tbody>\n",
       "</table>\n",
       "</div>"
      ],
      "text/plain": [
       "   actor_id first_name     last_name\n",
       "0         1   PENELOPE       GUINESS\n",
       "1         2       NICK      WAHLBERG\n",
       "2         3         ED         CHASE\n",
       "3         4   JENNIFER         DAVIS\n",
       "4         5     JOHNNY  LOLLOBRIGIDA"
      ]
     },
     "execution_count": 14,
     "metadata": {},
     "output_type": "execute_result"
    }
   ],
   "source": [
    "df.head()"
   ]
  },
  {
   "cell_type": "code",
   "execution_count": 15,
   "id": "50609164",
   "metadata": {},
   "outputs": [],
   "source": [
    "df.to_csv(r'C:\\Users\\alexd\\Ironhack\\Proyectos\\Project2_DA_Ironhack\\Cleaned_data\\actor_cleaned.csv', index=False)"
   ]
  },
  {
   "cell_type": "code",
   "execution_count": 20,
   "id": "8b01a72a",
   "metadata": {},
   "outputs": [
    {
     "data": {
      "text/html": [
       "<div>\n",
       "<style scoped>\n",
       "    .dataframe tbody tr th:only-of-type {\n",
       "        vertical-align: middle;\n",
       "    }\n",
       "\n",
       "    .dataframe tbody tr th {\n",
       "        vertical-align: top;\n",
       "    }\n",
       "\n",
       "    .dataframe thead th {\n",
       "        text-align: right;\n",
       "    }\n",
       "</style>\n",
       "<table border=\"1\" class=\"dataframe\">\n",
       "  <thead>\n",
       "    <tr style=\"text-align: right;\">\n",
       "      <th></th>\n",
       "      <th>actor_id</th>\n",
       "      <th>first_name</th>\n",
       "      <th>last_name</th>\n",
       "      <th>complete_name</th>\n",
       "    </tr>\n",
       "  </thead>\n",
       "  <tbody>\n",
       "    <tr>\n",
       "      <th>0</th>\n",
       "      <td>1</td>\n",
       "      <td>PENELOPE</td>\n",
       "      <td>GUINESS</td>\n",
       "      <td>PENELOPE_GUINESS</td>\n",
       "    </tr>\n",
       "    <tr>\n",
       "      <th>1</th>\n",
       "      <td>2</td>\n",
       "      <td>NICK</td>\n",
       "      <td>WAHLBERG</td>\n",
       "      <td>NICK_WAHLBERG</td>\n",
       "    </tr>\n",
       "    <tr>\n",
       "      <th>2</th>\n",
       "      <td>3</td>\n",
       "      <td>ED</td>\n",
       "      <td>CHASE</td>\n",
       "      <td>ED_CHASE</td>\n",
       "    </tr>\n",
       "    <tr>\n",
       "      <th>3</th>\n",
       "      <td>4</td>\n",
       "      <td>JENNIFER</td>\n",
       "      <td>DAVIS</td>\n",
       "      <td>JENNIFER_DAVIS</td>\n",
       "    </tr>\n",
       "    <tr>\n",
       "      <th>4</th>\n",
       "      <td>5</td>\n",
       "      <td>JOHNNY</td>\n",
       "      <td>LOLLOBRIGIDA</td>\n",
       "      <td>JOHNNY_LOLLOBRIGIDA</td>\n",
       "    </tr>\n",
       "  </tbody>\n",
       "</table>\n",
       "</div>"
      ],
      "text/plain": [
       "   actor_id first_name     last_name        complete_name\n",
       "0         1   PENELOPE       GUINESS     PENELOPE_GUINESS\n",
       "1         2       NICK      WAHLBERG        NICK_WAHLBERG\n",
       "2         3         ED         CHASE             ED_CHASE\n",
       "3         4   JENNIFER         DAVIS       JENNIFER_DAVIS\n",
       "4         5     JOHNNY  LOLLOBRIGIDA  JOHNNY_LOLLOBRIGIDA"
      ]
     },
     "execution_count": 20,
     "metadata": {},
     "output_type": "execute_result"
    }
   ],
   "source": [
    "df['complete_name']=df.first_name + '_'+ df.last_name\n",
    "df.head()"
   ]
  },
  {
   "cell_type": "code",
   "execution_count": 21,
   "id": "82addd4f",
   "metadata": {},
   "outputs": [],
   "source": [
    "df.to_csv(r'C:\\Users\\alexd\\Ironhack\\Proyectos\\Project2_DA_Ironhack\\Cleaned_data\\actor_cleaned.csv', index=False)"
   ]
  },
  {
   "cell_type": "code",
   "execution_count": null,
   "id": "d3296f8a",
   "metadata": {},
   "outputs": [],
   "source": []
  }
 ],
 "metadata": {
  "kernelspec": {
   "display_name": "Python 3 (ipykernel)",
   "language": "python",
   "name": "python3"
  },
  "language_info": {
   "codemirror_mode": {
    "name": "ipython",
    "version": 3
   },
   "file_extension": ".py",
   "mimetype": "text/x-python",
   "name": "python",
   "nbconvert_exporter": "python",
   "pygments_lexer": "ipython3",
   "version": "3.9.7"
  }
 },
 "nbformat": 4,
 "nbformat_minor": 5
}
